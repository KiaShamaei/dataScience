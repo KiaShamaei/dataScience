{
 "cells": [
  {
   "cell_type": "code",
   "execution_count": 1,
   "id": "90a4250c-4c0f-4fe5-bde6-80ebbc6a65cc",
   "metadata": {},
   "outputs": [],
   "source": [
    "from sklearn.linear_model import LinearRegression"
   ]
  },
  {
   "cell_type": "markdown",
   "id": "3bbbbdf8-57a1-40cb-9594-f645fd102984",
   "metadata": {},
   "source": [
    "### flow of work with regression \n",
    "- data prepration\n",
    "- data cleanning ( normalize and standard)\n",
    "- model and its hyperparameter\n",
    "- Train (fit)\n",
    "- Report and test\n",
    "- Evaluate\n",
    "- Save"
   ]
  },
  {
   "cell_type": "code",
   "execution_count": null,
   "id": "15a39224-889e-43e8-8147-c4832d28fefa",
   "metadata": {},
   "outputs": [],
   "source": []
  }
 ],
 "metadata": {
  "kernelspec": {
   "display_name": "Python 3 (ipykernel)",
   "language": "python",
   "name": "python3"
  },
  "language_info": {
   "codemirror_mode": {
    "name": "ipython",
    "version": 3
   },
   "file_extension": ".py",
   "mimetype": "text/x-python",
   "name": "python",
   "nbconvert_exporter": "python",
   "pygments_lexer": "ipython3",
   "version": "3.9.18"
  }
 },
 "nbformat": 4,
 "nbformat_minor": 5
}
