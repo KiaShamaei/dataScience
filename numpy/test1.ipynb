{
 "cells": [
  {
   "cell_type": "code",
   "execution_count": 1,
   "id": "7d579f80-4531-4ab0-b08f-b3e9999798fb",
   "metadata": {},
   "outputs": [
    {
     "name": "stdout",
     "output_type": "stream",
     "text": [
      "1\n"
     ]
    }
   ],
   "source": [
    "#this is a test \n",
    "a = 1 \n",
    "print(a) "
   ]
  },
  {
   "cell_type": "code",
   "execution_count": 2,
   "id": "5872f6bc-3b50-40d6-9040-dde33f7f4c2f",
   "metadata": {},
   "outputs": [
    {
     "name": "stdout",
     "output_type": "stream",
     "text": [
      "2\n"
     ]
    }
   ],
   "source": [
    "a= a * 2 \n",
    "print(a) "
   ]
  },
  {
   "cell_type": "markdown",
   "id": "0470fafc-d0a9-4823-8d9d-dab4d89ddd3e",
   "metadata": {},
   "source": [
    "$ f(x_1 , x_2 , ...) = \\alpha_1 x_1 + \\alpha_2 x_2 + ... $"
   ]
  },
  {
   "cell_type": "code",
   "execution_count": 3,
   "id": "4efa1549-ba22-4b95-85e4-df9807af0cd0",
   "metadata": {},
   "outputs": [
    {
     "name": "stdout",
     "output_type": "stream",
     "text": [
      "total 8\n",
      "-rw-r--r--  1 kiarash.shamaii  staff  1273 Mar 20 18:27 test1.ipynb\n"
     ]
    }
   ],
   "source": [
    "! ls -l"
   ]
  },
  {
   "cell_type": "code",
   "execution_count": null,
   "id": "047cc522-5466-4a64-a314-c0a53852143f",
   "metadata": {},
   "outputs": [],
   "source": []
  }
 ],
 "metadata": {
  "kernelspec": {
   "display_name": "Python 3 (ipykernel)",
   "language": "python",
   "name": "python3"
  },
  "language_info": {
   "codemirror_mode": {
    "name": "ipython",
    "version": 3
   },
   "file_extension": ".py",
   "mimetype": "text/x-python",
   "name": "python",
   "nbconvert_exporter": "python",
   "pygments_lexer": "ipython3",
   "version": "3.9.18"
  }
 },
 "nbformat": 4,
 "nbformat_minor": 5
}
