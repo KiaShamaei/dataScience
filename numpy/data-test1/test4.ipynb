{
 "cells": [
  {
   "cell_type": "code",
   "execution_count": 1,
   "id": "c628c506-41dd-4321-a2a4-6ec7215bb8f7",
   "metadata": {},
   "outputs": [],
   "source": [
    "i = 2"
   ]
  },
  {
   "cell_type": "code",
   "execution_count": 3,
   "id": "5b36b637-14f2-4822-8b5f-62b12e3e0090",
   "metadata": {},
   "outputs": [
    {
     "name": "stdout",
     "output_type": "stream",
     "text": [
      "2\n"
     ]
    }
   ],
   "source": [
    "print(i)"
   ]
  },
  {
   "cell_type": "code",
   "execution_count": 4,
   "id": "1f4236d1-fe3e-435e-8d6d-614a3b835066",
   "metadata": {},
   "outputs": [],
   "source": [
    "n=2 \n",
    "m = i + n "
   ]
  },
  {
   "cell_type": "code",
   "execution_count": 5,
   "id": "be6543f6-5668-423b-a044-123a2972bbb5",
   "metadata": {},
   "outputs": [
    {
     "name": "stdout",
     "output_type": "stream",
     "text": [
      "4\n"
     ]
    }
   ],
   "source": [
    "print(m)"
   ]
  },
  {
   "cell_type": "markdown",
   "id": "c47f5614-b0d1-41b2-ab28-b3ab785b27a6",
   "metadata": {},
   "source": [
    "# This is just test of mardone "
   ]
  },
  {
   "cell_type": "markdown",
   "id": "3f46b229-af9a-4f0f-a0dd-8e74cb4be8eb",
   "metadata": {},
   "source": [
    "$ f(x) = x + 2 $"
   ]
  },
  {
   "cell_type": "code",
   "execution_count": null,
   "id": "c4710309-d41c-468a-ad87-7ccb8e319075",
   "metadata": {},
   "outputs": [],
   "source": []
  }
 ],
 "metadata": {
  "kernelspec": {
   "display_name": "Python 3 (ipykernel)",
   "language": "python",
   "name": "python3"
  },
  "language_info": {
   "codemirror_mode": {
    "name": "ipython",
    "version": 3
   },
   "file_extension": ".py",
   "mimetype": "text/x-python",
   "name": "python",
   "nbconvert_exporter": "python",
   "pygments_lexer": "ipython3",
   "version": "3.9.18"
  }
 },
 "nbformat": 4,
 "nbformat_minor": 5
}
