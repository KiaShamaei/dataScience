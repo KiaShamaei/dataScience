#this is a test 
a = 1 
print(a) 


a= a * 2 
print(a) 





! ls -l



