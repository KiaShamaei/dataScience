{
 "cells": [
  {
   "cell_type": "code",
   "execution_count": 3,
   "id": "2a4bb6e9-ce8d-413a-b809-e5cbecd1c986",
   "metadata": {},
   "outputs": [],
   "source": [
    "import numpy as np"
   ]
  },
  {
   "cell_type": "markdown",
   "id": "ef7eb1d4-2790-437b-88f7-09c90476d0a5",
   "metadata": {},
   "source": [
    "# Use argmax"
   ]
  },
  {
   "cell_type": "code",
   "execution_count": 4,
   "id": "84bd4f9e-712d-4e66-acab-c776a9ee91fa",
   "metadata": {},
   "outputs": [],
   "source": [
    "users = np.array(['rex','rana','ali'])\n",
    "rank = np.array([-1,0,0.5])"
   ]
  },
  {
   "cell_type": "code",
   "execution_count": 5,
   "id": "8e9fb38a-c693-4787-8cdb-a1c5bf51d6d3",
   "metadata": {},
   "outputs": [
    {
     "data": {
      "text/plain": [
       "'ali'"
      ]
     },
     "execution_count": 5,
     "metadata": {},
     "output_type": "execute_result"
    }
   ],
   "source": [
    "x= np.argmax(rank)\n",
    "users[x]\n"
   ]
  },
  {
   "cell_type": "markdown",
   "id": "16c9bc39-e980-4011-b37e-9b85c7e20638",
   "metadata": {},
   "source": [
    "## How to sort an array and desort with numpy"
   ]
  },
  {
   "cell_type": "code",
   "execution_count": 6,
   "id": "7a31b804-4e2a-4dc9-850f-b1e3cbe5bb88",
   "metadata": {},
   "outputs": [
    {
     "data": {
      "text/plain": [
       "array([2, 1, 0])"
      ]
     },
     "execution_count": 6,
     "metadata": {},
     "output_type": "execute_result"
    }
   ],
   "source": [
    "y = np.argsort(rank)[::-1]\n",
    "y"
   ]
  },
  {
   "cell_type": "code",
   "execution_count": 7,
   "id": "b344c977-0ee8-428f-9357-c848d2e446fb",
   "metadata": {},
   "outputs": [
    {
     "data": {
      "text/plain": [
       "array(['ali', 'rana', 'rex'], dtype='<U4')"
      ]
     },
     "execution_count": 7,
     "metadata": {},
     "output_type": "execute_result"
    }
   ],
   "source": [
    "z = users[y]\n",
    "z"
   ]
  },
  {
   "cell_type": "markdown",
   "id": "13f398cb-835c-4db5-a573-644e4d2ef3af",
   "metadata": {},
   "source": [
    "# Use vectorize for change custom for all item in array\n"
   ]
  },
  {
   "cell_type": "code",
   "execution_count": 8,
   "id": "4040393f-4265-4564-b0af-1a7070c81d20",
   "metadata": {},
   "outputs": [],
   "source": [
    "y = [1,2,3,4,5,6]\n"
   ]
  },
  {
   "cell_type": "markdown",
   "id": "8e81f520-6e3e-4773-b80f-060af4465abb",
   "metadata": {},
   "source": [
    "```\n",
    "use python solution\n",
    "```"
   ]
  },
  {
   "cell_type": "code",
   "execution_count": 9,
   "id": "b08ef5c9-e2fb-4b11-8745-ce7f7c9432cc",
   "metadata": {},
   "outputs": [
    {
     "data": {
      "text/plain": [
       "['1', '2', '3', '4', '5', '6']"
      ]
     },
     "execution_count": 9,
     "metadata": {},
     "output_type": "execute_result"
    }
   ],
   "source": [
    "#1\n",
    "x_1 = [str(item) for item in y]\n",
    "x_1"
   ]
  },
  {
   "cell_type": "code",
   "execution_count": 10,
   "id": "88c4bd96-8eee-44f4-9122-0042a3ab3a3c",
   "metadata": {},
   "outputs": [
    {
     "data": {
      "text/plain": [
       "['1', '2', '3', '4', '5', '6']"
      ]
     },
     "execution_count": 10,
     "metadata": {},
     "output_type": "execute_result"
    }
   ],
   "source": [
    "#2\n",
    "x_2 = []\n",
    "for item in y:\n",
    "    x_2.append(str(item))\n",
    "x_2"
   ]
  },
  {
   "cell_type": "code",
   "execution_count": 11,
   "id": "02de5109-159e-46fc-88d7-3f2a0178e3ff",
   "metadata": {},
   "outputs": [
    {
     "data": {
      "text/plain": [
       "['1', '2', '3', '4', '5', '6']"
      ]
     },
     "execution_count": 11,
     "metadata": {},
     "output_type": "execute_result"
    }
   ],
   "source": [
    "#3 functional \n",
    "x_3 = list(map(str,y))\n",
    "x_3"
   ]
  },
  {
   "cell_type": "markdown",
   "id": "d1a5515e-885e-4c04-ab55-1e59b95659b4",
   "metadata": {},
   "source": [
    "# Use Numpy to more custome \n",
    "```\n",
    "first make function which you want\n",
    "make vectorizer from it\n",
    "pass array to vectorize function\n",
    "```"
   ]
  },
  {
   "cell_type": "code",
   "execution_count": 12,
   "id": "7d643534-6805-4af2-ab41-ebab0aeda610",
   "metadata": {},
   "outputs": [
    {
     "data": {
      "text/plain": [
       "array(['item_1', 'item_2', 'item_3', 'item_4', 'item_5', 'item_6'],\n",
       "      dtype='<U6')"
      ]
     },
     "execution_count": 12,
     "metadata": {},
     "output_type": "execute_result"
    }
   ],
   "source": [
    "def changer (item):\n",
    "    return f\"item_{item}\"\n",
    "v = np.vectorize(changer)\n",
    "v(y)"
   ]
  },
  {
   "cell_type": "markdown",
   "id": "e9d10ce8-7670-484b-b949-252ac7b57ea4",
   "metadata": {},
   "source": [
    "## use Where function of Numpy "
   ]
  },
  {
   "cell_type": "code",
   "execution_count": 13,
   "id": "5ffdda6a-f6a5-4b55-8a07-e49375d8f90a",
   "metadata": {},
   "outputs": [],
   "source": [
    "a = np.arange(9)"
   ]
  },
  {
   "cell_type": "code",
   "execution_count": 16,
   "id": "1516bdb0-91dc-4eda-8f8c-efaf3ce70396",
   "metadata": {},
   "outputs": [
    {
     "data": {
      "text/plain": [
       "(array([6, 7, 8]),)"
      ]
     },
     "execution_count": 16,
     "metadata": {},
     "output_type": "execute_result"
    }
   ],
   "source": [
    "#put just condition and item which match condition \n",
    "b = np.where(a>5)\n",
    "b"
   ]
  },
  {
   "cell_type": "code",
   "execution_count": 21,
   "id": "9b8de103-9bb3-437f-87fd-a1d267872aa4",
   "metadata": {},
   "outputs": [
    {
     "data": {
      "text/plain": [
       "array([6, 7, 8])"
      ]
     },
     "execution_count": 21,
     "metadata": {},
     "output_type": "execute_result"
    }
   ],
   "source": [
    "# find and map such ternary condition \n",
    "c= np.where(a>5, True , False)\n",
    "c\n",
    "a[c]"
   ]
  },
  {
   "cell_type": "markdown",
   "id": "8b0acf60-4d56-49d7-b6ec-ac4aec32f682",
   "metadata": {},
   "source": [
    "### Copy and View in Numpy ----"
   ]
  },
  {
   "cell_type": "code",
   "execution_count": 23,
   "id": "e410eab5-4794-4a6e-8efb-5fc6403a9303",
   "metadata": {},
   "outputs": [],
   "source": [
    "#there are three type of copy here none - shallow -- deep"
   ]
  },
  {
   "cell_type": "code",
   "execution_count": null,
   "id": "571d9911-f914-4ff3-91ee-a04b4389429c",
   "metadata": {},
   "outputs": [],
   "source": []
  }
 ],
 "metadata": {
  "kernelspec": {
   "display_name": "Python 3 (ipykernel)",
   "language": "python",
   "name": "python3"
  },
  "language_info": {
   "codemirror_mode": {
    "name": "ipython",
    "version": 3
   },
   "file_extension": ".py",
   "mimetype": "text/x-python",
   "name": "python",
   "nbconvert_exporter": "python",
   "pygments_lexer": "ipython3",
   "version": "3.9.18"
  }
 },
 "nbformat": 4,
 "nbformat_minor": 5
}
